{
 "cells": [
  {
   "cell_type": "code",
   "execution_count": 1,
   "id": "86d8e232",
   "metadata": {},
   "outputs": [],
   "source": [
    "import pytest\n",
    "import unittest"
   ]
  },
  {
   "cell_type": "code",
   "execution_count": 2,
   "id": "e1380608",
   "metadata": {},
   "outputs": [],
   "source": [
    "from arithmatic import Arithmatic"
   ]
  },
  {
   "cell_type": "code",
   "execution_count": 8,
   "id": "550f1fce",
   "metadata": {},
   "outputs": [
    {
     "name": "stderr",
     "output_type": "stream",
     "text": [
      "...\n",
      "----------------------------------------------------------------------\n",
      "Ran 3 tests in 0.003s\n",
      "\n",
      "OK\n"
     ]
    }
   ],
   "source": [
    "class Test_arithmatic(unittest.TestCase):\n",
    "    global s\n",
    "    s = Arithmatic()\n",
    "    def test_arithmatic(self):\n",
    "        z = s.division(12,4)\n",
    "        self.assertEqual(z,3)\n",
    "        \n",
    "        z = s.multiplication(2,3)\n",
    "        self.assertEqual(z,6)\n",
    "        \n",
    "        z = s.f1(3)\n",
    "        self.assertEqual(z,s.f1(3))\n",
    "        \n",
    "    def test_zeroDiv(self):\n",
    "        z = s.division(9,0)\n",
    "        self.assertEqual(str(z),str(ZeroDivisionError('division by zero')))\n",
    "        \n",
    "\n",
    "        \n",
    "    def test_alphabetMul(self):\n",
    "        z = s.multiplication('s','t')\n",
    "        self.assertEqual(str(z),str(TypeError(\"can't multiply sequence by non-int of type 'str'\")))\n",
    "\n",
    "if __name__ == '__main__':\n",
    "    unittest.main(argv=['first-arg-is-ignored'], exit=False)"
   ]
  },
  {
   "cell_type": "code",
   "execution_count": 9,
   "id": "d19f5678",
   "metadata": {},
   "outputs": [],
   "source": [
    "d = Test_arithmatic()"
   ]
  },
  {
   "cell_type": "code",
   "execution_count": 10,
   "id": "bd1370fd",
   "metadata": {
    "scrolled": true
   },
   "outputs": [],
   "source": [
    "d.test_arithmatic()"
   ]
  },
  {
   "cell_type": "code",
   "execution_count": 11,
   "id": "d607333f",
   "metadata": {},
   "outputs": [],
   "source": [
    "d.test_zeroDiv()"
   ]
  },
  {
   "cell_type": "code",
   "execution_count": 12,
   "id": "67667388",
   "metadata": {},
   "outputs": [],
   "source": [
    "d.test_alphabetMul()"
   ]
  },
  {
   "cell_type": "code",
   "execution_count": null,
   "id": "e3d4f401",
   "metadata": {},
   "outputs": [],
   "source": []
  }
 ],
 "metadata": {
  "kernelspec": {
   "display_name": "Python 3 (ipykernel)",
   "language": "python",
   "name": "python3"
  },
  "language_info": {
   "codemirror_mode": {
    "name": "ipython",
    "version": 3
   },
   "file_extension": ".py",
   "mimetype": "text/x-python",
   "name": "python",
   "nbconvert_exporter": "python",
   "pygments_lexer": "ipython3",
   "version": "3.9.7"
  }
 },
 "nbformat": 4,
 "nbformat_minor": 5
}
