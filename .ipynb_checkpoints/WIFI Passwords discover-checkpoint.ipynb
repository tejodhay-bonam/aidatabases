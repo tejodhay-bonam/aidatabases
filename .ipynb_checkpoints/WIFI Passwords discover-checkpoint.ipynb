{
 "cells": [
  {
   "cell_type": "code",
   "execution_count": 1,
   "metadata": {},
   "outputs": [
    {
     "name": "stdout",
     "output_type": "stream",
     "text": [
      "padmavathi                    |  123456789\n",
      "Mc_Shanmukh                   |  Asdf1234##\n",
      "FinSignments                  |  AsdF1234##\n",
      "PADMASRI                      |  19021972\n",
      "APPLE                         |  Apple04122021\n",
      "Raju Kota                     |  xylem@123\n",
      "JioNet                        |  \n"
     ]
    }
   ],
   "source": [
    "# first we will import the subprocess module\n",
    "import subprocess\n",
    "\n",
    "# now we will store the profiles data in \"data\" variable by \n",
    "# running the 1st cmd command using subprocess.check_output\n",
    "data = subprocess.check_output(['netsh', 'wlan', 'show', 'profiles']).decode('utf-8').split('\\n')\n",
    "\n",
    "# now we will store the profile by converting them to list\n",
    "profiles = [i.split(\":\")[1][1:-1] for i in data if \"All User Profile\" in i]\n",
    "\n",
    "# using for loop in python we are checking and printing the wifi \n",
    "# passwords if they are available using the 2nd cmd command\n",
    "for i in profiles:\n",
    "    # running the 2nd cmd command to check passwords\n",
    "    results = subprocess.check_output(['netsh', 'wlan', 'show', 'profile', i, \n",
    "                        'key=clear']).decode('utf-8').split('\\n')\n",
    "    # storing passwords after converting them to list\n",
    "    results = [b.split(\":\")[1][1:-1] for b in results if \"Key Content\" in b]\n",
    "    # printing the profiles(wifi name) with their passwords using \n",
    "    # try and except method \n",
    "    try:\n",
    "        print (\"{:<30}|  {:<}\".format(i, results[0]))\n",
    "    except IndexError:\n",
    "        print (\"{:<30}|  {:<}\".format(i, \"\"))"
   ]
  },
  {
   "cell_type": "code",
   "execution_count": null,
   "metadata": {},
   "outputs": [],
   "source": []
  }
 ],
 "metadata": {
  "hide_input": false,
  "kernelspec": {
   "display_name": "Python 3 (ipykernel)",
   "language": "python",
   "name": "python3"
  },
  "language_info": {
   "codemirror_mode": {
    "name": "ipython",
    "version": 3
   },
   "file_extension": ".py",
   "mimetype": "text/x-python",
   "name": "python",
   "nbconvert_exporter": "python",
   "pygments_lexer": "ipython3",
   "version": "3.9.7"
  },
  "toc": {
   "base_numbering": 1,
   "nav_menu": {},
   "number_sections": true,
   "sideBar": true,
   "skip_h1_title": false,
   "title_cell": "Table of Contents",
   "title_sidebar": "Contents",
   "toc_cell": false,
   "toc_position": {},
   "toc_section_display": true,
   "toc_window_display": false
  },
  "varInspector": {
   "cols": {
    "lenName": 16,
    "lenType": 16,
    "lenVar": 40
   },
   "kernels_config": {
    "python": {
     "delete_cmd_postfix": "",
     "delete_cmd_prefix": "del ",
     "library": "var_list.py",
     "varRefreshCmd": "print(var_dic_list())"
    },
    "r": {
     "delete_cmd_postfix": ") ",
     "delete_cmd_prefix": "rm(",
     "library": "var_list.r",
     "varRefreshCmd": "cat(var_dic_list()) "
    }
   },
   "types_to_exclude": [
    "module",
    "function",
    "builtin_function_or_method",
    "instance",
    "_Feature"
   ],
   "window_display": false
  }
 },
 "nbformat": 4,
 "nbformat_minor": 2
}
