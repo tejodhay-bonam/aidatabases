{
 "cells": [
  {
   "cell_type": "code",
   "execution_count": 66,
   "id": "10c4b85c",
   "metadata": {},
   "outputs": [],
   "source": [
    "class Arithmatic:\n",
    "    def multiplication(self,a,b):\n",
    "        self.a = a\n",
    "        self.b = b\n",
    "        try:\n",
    "            c = a*b\n",
    "            return c\n",
    "        \n",
    "        except Exception as e:\n",
    "            return e\n",
    "    def division(self,a,b):\n",
    "        \n",
    "        self.a = a\n",
    "        self.b = b\n",
    "        try:\n",
    "            c = a/b\n",
    "            return c\n",
    "        \n",
    "        except Exception as e:\n",
    "            return e\n",
    "    def f1(self,x):\n",
    "        self.x = x\n",
    "        y = x*x + 3\n",
    "        return y\n",
    "        "
   ]
  },
  {
   "cell_type": "code",
   "execution_count": null,
   "id": "c0467c43",
   "metadata": {},
   "outputs": [],
   "source": []
  }
 ],
 "metadata": {
  "kernelspec": {
   "display_name": "Python 3 (ipykernel)",
   "language": "python",
   "name": "python3"
  },
  "language_info": {
   "codemirror_mode": {
    "name": "ipython",
    "version": 3
   },
   "file_extension": ".py",
   "mimetype": "text/x-python",
   "name": "python",
   "nbconvert_exporter": "python",
   "pygments_lexer": "ipython3",
   "version": "3.9.7"
  }
 },
 "nbformat": 4,
 "nbformat_minor": 5
}
